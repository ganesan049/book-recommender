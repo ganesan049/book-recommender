{
 "cells": [
  {
   "cell_type": "code",
   "id": "initial_id",
   "metadata": {
    "collapsed": true,
    "ExecuteTime": {
     "end_time": "2025-02-15T18:31:31.013876Z",
     "start_time": "2025-02-15T18:31:30.797183Z"
    }
   },
   "source": [
    "import pandas as pd\n",
    "books = pd.read_csv('books_with_categories.csv')"
   ],
   "outputs": [],
   "execution_count": 55
  },
  {
   "metadata": {
    "ExecuteTime": {
     "end_time": "2025-02-15T18:31:34.887038Z",
     "start_time": "2025-02-15T18:31:31.025010Z"
    }
   },
   "cell_type": "code",
   "source": [
    "from transformers import pipeline\n",
    "classifier = pipeline(\"text-classification\", model=\"j-hartmann/emotion-english-distilroberta-base\", top_k=None, device=\"cuda\")\n",
    "classifier(\"I love this!\")"
   ],
   "id": "867803a1d3ac2dfb",
   "outputs": [
    {
     "name": "stderr",
     "output_type": "stream",
     "text": [
      "Device set to use cuda\n"
     ]
    },
    {
     "data": {
      "text/plain": [
       "[[{'label': 'joy', 'score': 0.9771687984466553},\n",
       "  {'label': 'surprise', 'score': 0.008528688922524452},\n",
       "  {'label': 'neutral', 'score': 0.0057645998895168304},\n",
       "  {'label': 'anger', 'score': 0.004419785924255848},\n",
       "  {'label': 'sadness', 'score': 0.002092393347993493},\n",
       "  {'label': 'disgust', 'score': 0.0016119939973577857},\n",
       "  {'label': 'fear', 'score': 0.0004138521908316761}]]"
      ]
     },
     "execution_count": 56,
     "metadata": {},
     "output_type": "execute_result"
    }
   ],
   "execution_count": 56
  },
  {
   "metadata": {
    "ExecuteTime": {
     "end_time": "2025-02-15T18:31:34.935044Z",
     "start_time": "2025-02-15T18:31:34.920892Z"
    }
   },
   "cell_type": "code",
   "source": "books[\"description\"][0]",
   "id": "f4972495c7305f5b",
   "outputs": [
    {
     "data": {
      "text/plain": [
       "'A NOVEL THAT READERS and critics have been eagerly anticipating for over a decade, Gilead is an astonishingly imagined story of remarkable lives. John Ames is a preacher, the son of a preacher and the grandson (both maternal and paternal) of preachers. It’s 1956 in Gilead, Iowa, towards the end of the Reverend Ames’s life, and he is absorbed in recording his family’s story, a legacy for the young son he will never see grow up. Haunted by his grandfather’s presence, John tells of the rift between his grandfather and his father: the elder, an angry visionary who fought for the abolitionist cause, and his son, an ardent pacifist. He is troubled, too, by his prodigal namesake, Jack (John Ames) Boughton, his best friend’s lost son who returns to Gilead searching for forgiveness and redemption. Told in John Ames’s joyous, rambling voice that finds beauty, humour and truth in the smallest of life’s details, Gilead is a song of celebration and acceptance of the best and the worst the world has to offer. At its heart is a tale of the sacred bonds between fathers and sons, pitch-perfect in style and story, set to dazzle critics and readers alike.'"
      ]
     },
     "execution_count": 57,
     "metadata": {},
     "output_type": "execute_result"
    }
   ],
   "execution_count": 57
  },
  {
   "metadata": {
    "ExecuteTime": {
     "end_time": "2025-02-15T18:31:35.037088Z",
     "start_time": "2025-02-15T18:31:34.959941Z"
    }
   },
   "cell_type": "code",
   "source": "classifier(books[\"description\"][0])",
   "id": "5fa86f7e03e46e99",
   "outputs": [
    {
     "data": {
      "text/plain": [
       "[[{'label': 'fear', 'score': 0.6548401117324829},\n",
       "  {'label': 'neutral', 'score': 0.16985271871089935},\n",
       "  {'label': 'sadness', 'score': 0.11640920490026474},\n",
       "  {'label': 'surprise', 'score': 0.02070067822933197},\n",
       "  {'label': 'disgust', 'score': 0.019100727513432503},\n",
       "  {'label': 'joy', 'score': 0.015161407180130482},\n",
       "  {'label': 'anger', 'score': 0.003935148939490318}]]"
      ]
     },
     "execution_count": 58,
     "metadata": {},
     "output_type": "execute_result"
    }
   ],
   "execution_count": 58
  },
  {
   "metadata": {
    "ExecuteTime": {
     "end_time": "2025-02-15T18:31:35.191654Z",
     "start_time": "2025-02-15T18:31:35.052055Z"
    }
   },
   "cell_type": "code",
   "source": "classifier(books[\"description\"][0].split(\".\"))",
   "id": "7f2bf2d8f7fabbd2",
   "outputs": [
    {
     "data": {
      "text/plain": [
       "[[{'label': 'surprise', 'score': 0.7296029329299927},\n",
       "  {'label': 'neutral', 'score': 0.14038559794425964},\n",
       "  {'label': 'fear', 'score': 0.06816216558218002},\n",
       "  {'label': 'joy', 'score': 0.04794234409928322},\n",
       "  {'label': 'anger', 'score': 0.009156346321105957},\n",
       "  {'label': 'disgust', 'score': 0.0026284747291356325},\n",
       "  {'label': 'sadness', 'score': 0.0021221598144620657}],\n",
       " [{'label': 'neutral', 'score': 0.44937023520469666},\n",
       "  {'label': 'disgust', 'score': 0.27359238266944885},\n",
       "  {'label': 'joy', 'score': 0.10908287763595581},\n",
       "  {'label': 'sadness', 'score': 0.09362705796957016},\n",
       "  {'label': 'anger', 'score': 0.040478311479091644},\n",
       "  {'label': 'surprise', 'score': 0.026970146223902702},\n",
       "  {'label': 'fear', 'score': 0.006879040505737066}],\n",
       " [{'label': 'neutral', 'score': 0.6462163925170898},\n",
       "  {'label': 'sadness', 'score': 0.24273303151130676},\n",
       "  {'label': 'disgust', 'score': 0.04342260584235191},\n",
       "  {'label': 'surprise', 'score': 0.02830052748322487},\n",
       "  {'label': 'joy', 'score': 0.014211488887667656},\n",
       "  {'label': 'fear', 'score': 0.014084086753427982},\n",
       "  {'label': 'anger', 'score': 0.011031883768737316}],\n",
       " [{'label': 'fear', 'score': 0.928168535232544},\n",
       "  {'label': 'anger', 'score': 0.03219063952565193},\n",
       "  {'label': 'neutral', 'score': 0.012808633036911488},\n",
       "  {'label': 'sadness', 'score': 0.008756852708756924},\n",
       "  {'label': 'surprise', 'score': 0.008597886189818382},\n",
       "  {'label': 'disgust', 'score': 0.008431801572442055},\n",
       "  {'label': 'joy', 'score': 0.001045580138452351}],\n",
       " [{'label': 'sadness', 'score': 0.9671575427055359},\n",
       "  {'label': 'neutral', 'score': 0.015104148536920547},\n",
       "  {'label': 'disgust', 'score': 0.006480589509010315},\n",
       "  {'label': 'fear', 'score': 0.005393990781158209},\n",
       "  {'label': 'surprise', 'score': 0.0022869440726935863},\n",
       "  {'label': 'anger', 'score': 0.0018428886542096734},\n",
       "  {'label': 'joy', 'score': 0.0017338789766654372}],\n",
       " [{'label': 'joy', 'score': 0.9327976107597351},\n",
       "  {'label': 'disgust', 'score': 0.03771749511361122},\n",
       "  {'label': 'neutral', 'score': 0.015891902148723602},\n",
       "  {'label': 'sadness', 'score': 0.0064445240423083305},\n",
       "  {'label': 'anger', 'score': 0.00502500357106328},\n",
       "  {'label': 'surprise', 'score': 0.0015812080819159746},\n",
       "  {'label': 'fear', 'score': 0.0005423084367066622}],\n",
       " [{'label': 'joy', 'score': 0.6528705954551697},\n",
       "  {'label': 'neutral', 'score': 0.254274845123291},\n",
       "  {'label': 'surprise', 'score': 0.0680830180644989},\n",
       "  {'label': 'sadness', 'score': 0.009908996522426605},\n",
       "  {'label': 'disgust', 'score': 0.006512211635708809},\n",
       "  {'label': 'anger', 'score': 0.004821311682462692},\n",
       "  {'label': 'fear', 'score': 0.0035290196537971497}],\n",
       " [{'label': 'neutral', 'score': 0.5494765639305115},\n",
       "  {'label': 'sadness', 'score': 0.1116902083158493},\n",
       "  {'label': 'disgust', 'score': 0.10400671511888504},\n",
       "  {'label': 'surprise', 'score': 0.07876555621623993},\n",
       "  {'label': 'anger', 'score': 0.0641336739063263},\n",
       "  {'label': 'fear', 'score': 0.051362842321395874},\n",
       "  {'label': 'joy', 'score': 0.040564440190792084}]]"
      ]
     },
     "execution_count": 59,
     "metadata": {},
     "output_type": "execute_result"
    }
   ],
   "execution_count": 59
  },
  {
   "metadata": {
    "ExecuteTime": {
     "end_time": "2025-02-15T18:31:35.273789Z",
     "start_time": "2025-02-15T18:31:35.207190Z"
    }
   },
   "cell_type": "code",
   "source": [
    "sentences = books[\"description\"][0].split(\".\")\n",
    "predictions = classifier(sentences)"
   ],
   "id": "33e81bb324a048b7",
   "outputs": [],
   "execution_count": 60
  },
  {
   "metadata": {
    "ExecuteTime": {
     "end_time": "2025-02-15T18:31:35.295351Z",
     "start_time": "2025-02-15T18:31:35.288682Z"
    }
   },
   "cell_type": "code",
   "source": "sentences[0]",
   "id": "bc8e41fad7040697",
   "outputs": [
    {
     "data": {
      "text/plain": [
       "'A NOVEL THAT READERS and critics have been eagerly anticipating for over a decade, Gilead is an astonishingly imagined story of remarkable lives'"
      ]
     },
     "execution_count": 61,
     "metadata": {},
     "output_type": "execute_result"
    }
   ],
   "execution_count": 61
  },
  {
   "metadata": {
    "ExecuteTime": {
     "end_time": "2025-02-15T18:31:35.315658Z",
     "start_time": "2025-02-15T18:31:35.310193Z"
    }
   },
   "cell_type": "code",
   "source": "predictions[0]",
   "id": "1f50ebd96aa38866",
   "outputs": [
    {
     "data": {
      "text/plain": [
       "[{'label': 'surprise', 'score': 0.7296029329299927},\n",
       " {'label': 'neutral', 'score': 0.14038559794425964},\n",
       " {'label': 'fear', 'score': 0.06816216558218002},\n",
       " {'label': 'joy', 'score': 0.04794234409928322},\n",
       " {'label': 'anger', 'score': 0.009156346321105957},\n",
       " {'label': 'disgust', 'score': 0.0026284747291356325},\n",
       " {'label': 'sadness', 'score': 0.0021221598144620657}]"
      ]
     },
     "execution_count": 62,
     "metadata": {},
     "output_type": "execute_result"
    }
   ],
   "execution_count": 62
  },
  {
   "metadata": {
    "ExecuteTime": {
     "end_time": "2025-02-15T18:31:35.334819Z",
     "start_time": "2025-02-15T18:31:35.330260Z"
    }
   },
   "cell_type": "code",
   "source": "sentences[3]",
   "id": "20e347bc6df8b33c",
   "outputs": [
    {
     "data": {
      "text/plain": [
       "' Haunted by his grandfather’s presence, John tells of the rift between his grandfather and his father: the elder, an angry visionary who fought for the abolitionist cause, and his son, an ardent pacifist'"
      ]
     },
     "execution_count": 63,
     "metadata": {},
     "output_type": "execute_result"
    }
   ],
   "execution_count": 63
  },
  {
   "metadata": {
    "ExecuteTime": {
     "end_time": "2025-02-15T18:31:35.372241Z",
     "start_time": "2025-02-15T18:31:35.367466Z"
    }
   },
   "cell_type": "code",
   "source": "predictions[3]",
   "id": "34b285cb4faa7b85",
   "outputs": [
    {
     "data": {
      "text/plain": [
       "[{'label': 'fear', 'score': 0.928168535232544},\n",
       " {'label': 'anger', 'score': 0.03219063952565193},\n",
       " {'label': 'neutral', 'score': 0.012808633036911488},\n",
       " {'label': 'sadness', 'score': 0.008756852708756924},\n",
       " {'label': 'surprise', 'score': 0.008597886189818382},\n",
       " {'label': 'disgust', 'score': 0.008431801572442055},\n",
       " {'label': 'joy', 'score': 0.001045580138452351}]"
      ]
     },
     "execution_count": 64,
     "metadata": {},
     "output_type": "execute_result"
    }
   ],
   "execution_count": 64
  },
  {
   "metadata": {
    "ExecuteTime": {
     "end_time": "2025-02-15T18:31:35.402908Z",
     "start_time": "2025-02-15T18:31:35.389290Z"
    }
   },
   "cell_type": "code",
   "source": "sorted(predictions[0], key=lambda x: x[\"label\"])",
   "id": "3c0f9c52cbcaea7",
   "outputs": [
    {
     "data": {
      "text/plain": [
       "[{'label': 'anger', 'score': 0.009156346321105957},\n",
       " {'label': 'disgust', 'score': 0.0026284747291356325},\n",
       " {'label': 'fear', 'score': 0.06816216558218002},\n",
       " {'label': 'joy', 'score': 0.04794234409928322},\n",
       " {'label': 'neutral', 'score': 0.14038559794425964},\n",
       " {'label': 'sadness', 'score': 0.0021221598144620657},\n",
       " {'label': 'surprise', 'score': 0.7296029329299927}]"
      ]
     },
     "execution_count": 65,
     "metadata": {},
     "output_type": "execute_result"
    }
   ],
   "execution_count": 65
  },
  {
   "metadata": {
    "ExecuteTime": {
     "end_time": "2025-02-15T18:31:35.431577Z",
     "start_time": "2025-02-15T18:31:35.426100Z"
    }
   },
   "cell_type": "code",
   "source": [
    "import numpy as np\n",
    "emotion_labels = [\"anger\", \"disgust\", \"fear\", \"joy\", \"neutral\", \"sadness\", \"surprise\"]"
   ],
   "id": "8b98a405945bb4d1",
   "outputs": [],
   "execution_count": 66
  },
  {
   "metadata": {
    "ExecuteTime": {
     "end_time": "2025-02-15T18:31:35.453746Z",
     "start_time": "2025-02-15T18:31:35.444086Z"
    }
   },
   "cell_type": "code",
   "source": [
    "def calculate_max_emotions_scores(predictions):\n",
    "    per_emotion_scores = {label: [] for label in emotion_labels}\n",
    "    for prediction in predictions:\n",
    "        sorted_prediction = sorted(prediction, key=lambda x: x[\"label\"])\n",
    "        for index, label in enumerate(emotion_labels):\n",
    "            per_emotion_scores[label].append(sorted_prediction[index][\"score\"])\n",
    "    return {label: np.max(scores) for label, scores in per_emotion_scores.items()}"
   ],
   "id": "844d98e8bd5d31c9",
   "outputs": [],
   "execution_count": 67
  },
  {
   "metadata": {
    "ExecuteTime": {
     "end_time": "2025-02-15T18:31:35.928469Z",
     "start_time": "2025-02-15T18:31:35.469314Z"
    }
   },
   "cell_type": "code",
   "source": [
    "emotion_scores= {label: [] for label in emotion_labels}\n",
    "isbn=[]\n",
    "for i in range(10):\n",
    "    isbn.append(books[\"isbn10\"][i])\n",
    "    sentiment = books[\"description\"][i].split(\".\")\n",
    "    predictions = classifier(sentiment)\n",
    "    max_scores = calculate_max_emotions_scores(predictions)\n",
    "    # print(max_scores)\n",
    "    for label in emotion_labels:\n",
    "        emotion_scores[label].append(max_scores[label])"
   ],
   "id": "4082506836d692f9",
   "outputs": [],
   "execution_count": 68
  },
  {
   "metadata": {
    "ExecuteTime": {
     "end_time": "2025-02-15T18:31:35.950046Z",
     "start_time": "2025-02-15T18:31:35.943160Z"
    }
   },
   "cell_type": "code",
   "source": "emotion_scores",
   "id": "90b565601388a8bc",
   "outputs": [
    {
     "data": {
      "text/plain": [
       "{'anger': [0.0641336739063263,\n",
       "  0.6126186847686768,\n",
       "  0.0641336739063263,\n",
       "  0.35148343443870544,\n",
       "  0.08141246438026428,\n",
       "  0.23222483694553375,\n",
       "  0.5381841063499451,\n",
       "  0.0641336739063263,\n",
       "  0.30066993832588196,\n",
       "  0.0641336739063263],\n",
       " 'disgust': [0.27359238266944885,\n",
       "  0.34828537702560425,\n",
       "  0.10400671511888504,\n",
       "  0.1507224440574646,\n",
       "  0.18449558317661285,\n",
       "  0.7271748185157776,\n",
       "  0.1558550000190735,\n",
       "  0.10400671511888504,\n",
       "  0.2794812023639679,\n",
       "  0.1779278963804245],\n",
       " 'fear': [0.928168535232544,\n",
       "  0.9425278306007385,\n",
       "  0.9723208546638489,\n",
       "  0.36070698499679565,\n",
       "  0.09504340589046478,\n",
       "  0.051362842321395874,\n",
       "  0.7474278211593628,\n",
       "  0.40449532866477966,\n",
       "  0.9155241250991821,\n",
       "  0.051362842321395874],\n",
       " 'joy': [0.9327976107597351,\n",
       "  0.7044216990470886,\n",
       "  0.76723712682724,\n",
       "  0.2518812119960785,\n",
       "  0.040564440190792084,\n",
       "  0.04337584227323532,\n",
       "  0.8725654482841492,\n",
       "  0.040564440190792084,\n",
       "  0.040564440190792084,\n",
       "  0.040564440190792084],\n",
       " 'neutral': [0.6462163925170898,\n",
       "  0.8879395127296448,\n",
       "  0.5494765639305115,\n",
       "  0.7326850891113281,\n",
       "  0.8843895196914673,\n",
       "  0.6213928461074829,\n",
       "  0.712194561958313,\n",
       "  0.5494765639305115,\n",
       "  0.8402894735336304,\n",
       "  0.8603723645210266],\n",
       " 'sadness': [0.9671575427055359,\n",
       "  0.1116902083158493,\n",
       "  0.1116902083158493,\n",
       "  0.1116902083158493,\n",
       "  0.4758807420730591,\n",
       "  0.1116902083158493,\n",
       "  0.4080013930797577,\n",
       "  0.8202825784683228,\n",
       "  0.35445988178253174,\n",
       "  0.1116902083158493],\n",
       " 'surprise': [0.7296029329299927,\n",
       "  0.25254499912261963,\n",
       "  0.07876555621623993,\n",
       "  0.07876555621623993,\n",
       "  0.07876555621623993,\n",
       "  0.2719026505947113,\n",
       "  0.07876555621623993,\n",
       "  0.2344876527786255,\n",
       "  0.13561391830444336,\n",
       "  0.07876555621623993]}"
      ]
     },
     "execution_count": 69,
     "metadata": {},
     "output_type": "execute_result"
    }
   ],
   "execution_count": 69
  },
  {
   "metadata": {
    "ExecuteTime": {
     "end_time": "2025-02-15T18:31:36.159328Z",
     "start_time": "2025-02-15T18:31:35.970757Z"
    }
   },
   "cell_type": "code",
   "source": [
    "import tqdm as tqdm\n",
    "isbn=[]\n",
    "emotion_scores= {label: [] for label in emotion_labels}\n",
    "for i in tqdm.tqdm(range(len(books))):\n",
    "    isbn.append(books[\"isbn10\"][i])\n",
    "    sentences = books[\"description\"][i].split(\".\")\n",
    "    predictions = classifier(sentences)\n",
    "    max_scores = calculate_max_emotions_scores(predictions)\n",
    "    for label in emotion_labels:\n",
    "        emotion_scores[label].append(max_scores[label])"
   ],
   "id": "43e48130565f7a63",
   "outputs": [
    {
     "name": "stderr",
     "output_type": "stream",
     "text": [
      "100%|██████████| 3/3 [00:00<00:00, 16.84it/s]\n"
     ]
    }
   ],
   "execution_count": 70
  },
  {
   "metadata": {
    "ExecuteTime": {
     "end_time": "2025-02-15T18:31:36.179391Z",
     "start_time": "2025-02-15T18:31:36.174302Z"
    }
   },
   "cell_type": "code",
   "source": "emotion_scores",
   "id": "47cf6487c0f9ae78",
   "outputs": [
    {
     "data": {
      "text/plain": [
       "{'anger': [0.0641336739063263, 0.6126186847686768, 0.0641336739063263],\n",
       " 'disgust': [0.27359238266944885, 0.34828537702560425, 0.10400671511888504],\n",
       " 'fear': [0.928168535232544, 0.9425278306007385, 0.9723208546638489],\n",
       " 'joy': [0.9327976107597351, 0.7044216990470886, 0.76723712682724],\n",
       " 'neutral': [0.6462163925170898, 0.8879395127296448, 0.5494765639305115],\n",
       " 'sadness': [0.9671575427055359, 0.1116902083158493, 0.1116902083158493],\n",
       " 'surprise': [0.7296029329299927, 0.25254499912261963, 0.07876555621623993]}"
      ]
     },
     "execution_count": 71,
     "metadata": {},
     "output_type": "execute_result"
    }
   ],
   "execution_count": 71
  },
  {
   "metadata": {
    "ExecuteTime": {
     "end_time": "2025-02-15T18:31:36.211407Z",
     "start_time": "2025-02-15T18:31:36.191254Z"
    }
   },
   "cell_type": "code",
   "source": [
    "emotions_df = pd.DataFrame(emotion_scores)\n",
    "emotions_df[\"isbn10\"]=isbn\n",
    "emotions_df"
   ],
   "id": "d4a770401b7957a0",
   "outputs": [
    {
     "data": {
      "text/plain": [
       "      anger   disgust      fear       joy   neutral   sadness  surprise  \\\n",
       "0  0.064134  0.273592  0.928169  0.932798  0.646216  0.967158  0.729603   \n",
       "1  0.612619  0.348285  0.942528  0.704422  0.887940  0.111690  0.252545   \n",
       "2  0.064134  0.104007  0.972321  0.767237  0.549477  0.111690  0.078766   \n",
       "\n",
       "    isbn10  \n",
       "0  2005883  \n",
       "1  2261987  \n",
       "2  6178731  "
      ],
      "text/html": [
       "<div>\n",
       "<style scoped>\n",
       "    .dataframe tbody tr th:only-of-type {\n",
       "        vertical-align: middle;\n",
       "    }\n",
       "\n",
       "    .dataframe tbody tr th {\n",
       "        vertical-align: top;\n",
       "    }\n",
       "\n",
       "    .dataframe thead th {\n",
       "        text-align: right;\n",
       "    }\n",
       "</style>\n",
       "<table border=\"1\" class=\"dataframe\">\n",
       "  <thead>\n",
       "    <tr style=\"text-align: right;\">\n",
       "      <th></th>\n",
       "      <th>anger</th>\n",
       "      <th>disgust</th>\n",
       "      <th>fear</th>\n",
       "      <th>joy</th>\n",
       "      <th>neutral</th>\n",
       "      <th>sadness</th>\n",
       "      <th>surprise</th>\n",
       "      <th>isbn10</th>\n",
       "    </tr>\n",
       "  </thead>\n",
       "  <tbody>\n",
       "    <tr>\n",
       "      <th>0</th>\n",
       "      <td>0.064134</td>\n",
       "      <td>0.273592</td>\n",
       "      <td>0.928169</td>\n",
       "      <td>0.932798</td>\n",
       "      <td>0.646216</td>\n",
       "      <td>0.967158</td>\n",
       "      <td>0.729603</td>\n",
       "      <td>2005883</td>\n",
       "    </tr>\n",
       "    <tr>\n",
       "      <th>1</th>\n",
       "      <td>0.612619</td>\n",
       "      <td>0.348285</td>\n",
       "      <td>0.942528</td>\n",
       "      <td>0.704422</td>\n",
       "      <td>0.887940</td>\n",
       "      <td>0.111690</td>\n",
       "      <td>0.252545</td>\n",
       "      <td>2261987</td>\n",
       "    </tr>\n",
       "    <tr>\n",
       "      <th>2</th>\n",
       "      <td>0.064134</td>\n",
       "      <td>0.104007</td>\n",
       "      <td>0.972321</td>\n",
       "      <td>0.767237</td>\n",
       "      <td>0.549477</td>\n",
       "      <td>0.111690</td>\n",
       "      <td>0.078766</td>\n",
       "      <td>6178731</td>\n",
       "    </tr>\n",
       "  </tbody>\n",
       "</table>\n",
       "</div>"
      ]
     },
     "execution_count": 72,
     "metadata": {},
     "output_type": "execute_result"
    }
   ],
   "execution_count": 72
  },
  {
   "metadata": {
    "ExecuteTime": {
     "end_time": "2025-02-15T18:31:36.294498Z",
     "start_time": "2025-02-15T18:31:36.275866Z"
    }
   },
   "cell_type": "code",
   "source": "books = pd.merge(books, emotions_df, on=\"isbn10\")",
   "id": "21fdcc8cfcbd09b8",
   "outputs": [],
   "execution_count": 73
  },
  {
   "metadata": {
    "ExecuteTime": {
     "end_time": "2025-02-15T18:31:36.355707Z",
     "start_time": "2025-02-15T18:31:36.334105Z"
    }
   },
   "cell_type": "code",
   "source": "books",
   "id": "44249ccc84838a6c",
   "outputs": [
    {
     "data": {
      "text/plain": [
       "         isbn13   isbn10           title                          authors  \\\n",
       "0  9.780000e+12  2005883          Gilead               Marilynne Robinson   \n",
       "1  9.780000e+12  2261987    Spider's Web  Charles Osborne;Agatha Christie   \n",
       "2  9.780010e+12  6178731  Rage of angels                   Sidney Sheldon   \n",
       "\n",
       "                      categories  \\\n",
       "0                        Fiction   \n",
       "1  Detective and mystery stories   \n",
       "2                        Fiction   \n",
       "\n",
       "                                           thumbnail  \\\n",
       "0  http://books.google.com/books/content?id=KQZCP...   \n",
       "1  http://books.google.com/books/content?id=gA5GP...   \n",
       "2  http://books.google.com/books/content?id=FKo2T...   \n",
       "\n",
       "                                         description  published_year  \\\n",
       "0  A NOVEL THAT READERS and critics have been eag...          2004.0   \n",
       "1  A new 'Christie for Christmas' -- a full-lengt...          2000.0   \n",
       "2  A memorable, mesmerizing heroine Jennifer -- b...          1993.0   \n",
       "\n",
       "   average_rating  num_pages  ...     title_and_subtitle  \\\n",
       "0            3.85      247.0  ...                 Gilead   \n",
       "1            3.83      241.0  ...  Spider's Web: A Novel   \n",
       "2            3.93      512.0  ...         Rage of angels   \n",
       "\n",
       "                                  tagged_description simple_categories  \\\n",
       "0  9780000000000.0 2005883 A NOVEL THAT READERS a...           Fiction   \n",
       "1  9780000000000.0 2261987 A new 'Christie for Ch...           Fiction   \n",
       "2  9780010000000.0 6178731 A memorable, mesmerizi...           Fiction   \n",
       "\n",
       "      anger   disgust      fear       joy   neutral   sadness  surprise  \n",
       "0  0.064134  0.273592  0.928169  0.932798  0.646216  0.967158  0.729603  \n",
       "1  0.612619  0.348285  0.942528  0.704422  0.887940  0.111690  0.252545  \n",
       "2  0.064134  0.104007  0.972321  0.767237  0.549477  0.111690  0.078766  \n",
       "\n",
       "[3 rows x 21 columns]"
      ],
      "text/html": [
       "<div>\n",
       "<style scoped>\n",
       "    .dataframe tbody tr th:only-of-type {\n",
       "        vertical-align: middle;\n",
       "    }\n",
       "\n",
       "    .dataframe tbody tr th {\n",
       "        vertical-align: top;\n",
       "    }\n",
       "\n",
       "    .dataframe thead th {\n",
       "        text-align: right;\n",
       "    }\n",
       "</style>\n",
       "<table border=\"1\" class=\"dataframe\">\n",
       "  <thead>\n",
       "    <tr style=\"text-align: right;\">\n",
       "      <th></th>\n",
       "      <th>isbn13</th>\n",
       "      <th>isbn10</th>\n",
       "      <th>title</th>\n",
       "      <th>authors</th>\n",
       "      <th>categories</th>\n",
       "      <th>thumbnail</th>\n",
       "      <th>description</th>\n",
       "      <th>published_year</th>\n",
       "      <th>average_rating</th>\n",
       "      <th>num_pages</th>\n",
       "      <th>...</th>\n",
       "      <th>title_and_subtitle</th>\n",
       "      <th>tagged_description</th>\n",
       "      <th>simple_categories</th>\n",
       "      <th>anger</th>\n",
       "      <th>disgust</th>\n",
       "      <th>fear</th>\n",
       "      <th>joy</th>\n",
       "      <th>neutral</th>\n",
       "      <th>sadness</th>\n",
       "      <th>surprise</th>\n",
       "    </tr>\n",
       "  </thead>\n",
       "  <tbody>\n",
       "    <tr>\n",
       "      <th>0</th>\n",
       "      <td>9.780000e+12</td>\n",
       "      <td>2005883</td>\n",
       "      <td>Gilead</td>\n",
       "      <td>Marilynne Robinson</td>\n",
       "      <td>Fiction</td>\n",
       "      <td>http://books.google.com/books/content?id=KQZCP...</td>\n",
       "      <td>A NOVEL THAT READERS and critics have been eag...</td>\n",
       "      <td>2004.0</td>\n",
       "      <td>3.85</td>\n",
       "      <td>247.0</td>\n",
       "      <td>...</td>\n",
       "      <td>Gilead</td>\n",
       "      <td>9780000000000.0 2005883 A NOVEL THAT READERS a...</td>\n",
       "      <td>Fiction</td>\n",
       "      <td>0.064134</td>\n",
       "      <td>0.273592</td>\n",
       "      <td>0.928169</td>\n",
       "      <td>0.932798</td>\n",
       "      <td>0.646216</td>\n",
       "      <td>0.967158</td>\n",
       "      <td>0.729603</td>\n",
       "    </tr>\n",
       "    <tr>\n",
       "      <th>1</th>\n",
       "      <td>9.780000e+12</td>\n",
       "      <td>2261987</td>\n",
       "      <td>Spider's Web</td>\n",
       "      <td>Charles Osborne;Agatha Christie</td>\n",
       "      <td>Detective and mystery stories</td>\n",
       "      <td>http://books.google.com/books/content?id=gA5GP...</td>\n",
       "      <td>A new 'Christie for Christmas' -- a full-lengt...</td>\n",
       "      <td>2000.0</td>\n",
       "      <td>3.83</td>\n",
       "      <td>241.0</td>\n",
       "      <td>...</td>\n",
       "      <td>Spider's Web: A Novel</td>\n",
       "      <td>9780000000000.0 2261987 A new 'Christie for Ch...</td>\n",
       "      <td>Fiction</td>\n",
       "      <td>0.612619</td>\n",
       "      <td>0.348285</td>\n",
       "      <td>0.942528</td>\n",
       "      <td>0.704422</td>\n",
       "      <td>0.887940</td>\n",
       "      <td>0.111690</td>\n",
       "      <td>0.252545</td>\n",
       "    </tr>\n",
       "    <tr>\n",
       "      <th>2</th>\n",
       "      <td>9.780010e+12</td>\n",
       "      <td>6178731</td>\n",
       "      <td>Rage of angels</td>\n",
       "      <td>Sidney Sheldon</td>\n",
       "      <td>Fiction</td>\n",
       "      <td>http://books.google.com/books/content?id=FKo2T...</td>\n",
       "      <td>A memorable, mesmerizing heroine Jennifer -- b...</td>\n",
       "      <td>1993.0</td>\n",
       "      <td>3.93</td>\n",
       "      <td>512.0</td>\n",
       "      <td>...</td>\n",
       "      <td>Rage of angels</td>\n",
       "      <td>9780010000000.0 6178731 A memorable, mesmerizi...</td>\n",
       "      <td>Fiction</td>\n",
       "      <td>0.064134</td>\n",
       "      <td>0.104007</td>\n",
       "      <td>0.972321</td>\n",
       "      <td>0.767237</td>\n",
       "      <td>0.549477</td>\n",
       "      <td>0.111690</td>\n",
       "      <td>0.078766</td>\n",
       "    </tr>\n",
       "  </tbody>\n",
       "</table>\n",
       "<p>3 rows × 21 columns</p>\n",
       "</div>"
      ]
     },
     "execution_count": 74,
     "metadata": {},
     "output_type": "execute_result"
    }
   ],
   "execution_count": 74
  },
  {
   "metadata": {
    "ExecuteTime": {
     "end_time": "2025-02-15T18:31:36.465300Z",
     "start_time": "2025-02-15T18:31:36.459230Z"
    }
   },
   "cell_type": "code",
   "source": "books.to_csv(\"books_with_emotions.csv\", index=False)",
   "id": "311a14b3592c1c1a",
   "outputs": [],
   "execution_count": 75
  }
 ],
 "metadata": {
  "kernelspec": {
   "display_name": "Python 3",
   "language": "python",
   "name": "python3"
  },
  "language_info": {
   "codemirror_mode": {
    "name": "ipython",
    "version": 2
   },
   "file_extension": ".py",
   "mimetype": "text/x-python",
   "name": "python",
   "nbconvert_exporter": "python",
   "pygments_lexer": "ipython2",
   "version": "2.7.6"
  }
 },
 "nbformat": 4,
 "nbformat_minor": 5
}
